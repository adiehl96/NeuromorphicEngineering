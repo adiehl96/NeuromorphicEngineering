{
  "nbformat": 4,
  "nbformat_minor": 0,
  "metadata": {
    "colab": {
      "name": "TestExample.ipynb",
      "provenance": [],
      "collapsed_sections": []
    },
    "kernelspec": {
      "name": "python3",
      "display_name": "Python 3"
    },
    "language_info": {
      "name": "python"
    }
  },
  "cells": [
    {
      "cell_type": "markdown",
      "source": [
        "# Example.dig Test\n",
        "## This python notebook is used to verify the results of the example circuit. Simply run all cells in order to perform the test."
      ],
      "metadata": {
        "id": "1yNDimkvADAK"
      }
    },
    {
      "cell_type": "code",
      "source": [
        "!wget https://raw.githubusercontent.com/adiehl96/NeuromorphicEngineering/phase02/docs/tests/example.csv -nc"
      ],
      "metadata": {
        "colab": {
          "base_uri": "https://localhost:8080/"
        },
        "id": "unqgPo5Z_Nzz",
        "outputId": "1a42e13b-96c5-4556-d043-7fee53cd4b82"
      },
      "execution_count": 15,
      "outputs": [
        {
          "output_type": "stream",
          "name": "stdout",
          "text": [
            "File ‘example.csv’ already there; not retrieving.\n",
            "\n"
          ]
        }
      ]
    },
    {
      "cell_type": "code",
      "source": [
        "import csv\n",
        "import numpy as np\n",
        "import matplotlib.pyplot as plt\n",
        "import networkx as nx\n",
        "import networkx.algorithms.approximation as nxaa\n",
        "import sys\n",
        "from networkx.classes.function import path_weight"
      ],
      "metadata": {
        "id": "nGv6TX9syPE-"
      },
      "execution_count": 16,
      "outputs": []
    },
    {
      "cell_type": "code",
      "source": [
        "G = nx.Graph()\n",
        "G.add_weighted_edges_from([(0,1,4),(0,7,8),(1,7,11),(1,2,8),(2,8,2),(2,5,4),(2,3,7),(3,5,14),(3,4,9),(4,5,10),(5,6,2),(6,8,6),(6,7,1),(7,8,7)])"
      ],
      "metadata": {
        "id": "ksROkYghxu2Q"
      },
      "execution_count": 17,
      "outputs": []
    },
    {
      "cell_type": "code",
      "source": [
        "def hexPathToNX(hexPath, VS, VT):\n",
        "  path = []\n",
        "  VS_idx = -1\n",
        "  VT_idx = -1\n",
        "  for i in range(8):\n",
        "    path.append((hexPath >> 4*i) & 15)\n",
        "    if (path[-1] == VS and VS_idx == -1):\n",
        "      VS_idx = i\n",
        "    if (path[-1] == VT and VT_idx == -1):\n",
        "      VT_idx = i\n",
        "  return path[VT_idx:VS_idx+1][::-1]"
      ],
      "metadata": {
        "id": "uV2vox3E2B1Y"
      },
      "execution_count": 18,
      "outputs": []
    },
    {
      "cell_type": "code",
      "source": [
        "with open('example.csv') as csv_file:\n",
        "    csv_reader = csv.reader(csv_file, delimiter=',')\n",
        "    line_count = 0\n",
        "    for row in csv_reader:\n",
        "        if line_count == 0:\n",
        "            print(f'Column names are {\", \".join(row)}')\n",
        "        elif (line_count-29)%30==0:\n",
        "            if (hexPathToNX(int(row[5],base=16), int(row[3]), int(row[4])) not in [list(nx.dijkstra_path(G, source=int(row[3]), target=int(row[4])))]):\n",
        "              print(f\"Path incorrect, found path {hexPathToNX(int(row[5],base=16), int(row[3]), int(row[4]))}, but expected {list(nx.dijkstra_path(G, source=int(row[3]), target=int(row[4])))}\")\n",
        "\n",
        "            if (nx.dijkstra_path_length(G, int(row[3]), int(row[4])) != int(row[6],base=16)):\n",
        "              print(f\"Total Path weight is incorrect! Found {int(row[6],base=16)}, but expected {nx.dijkstra_path_length(G, int(row[3]), int(row[4]))}\")\n",
        "        line_count += 1\n",
        "    print(f'Processed {line_count} lines.')"
      ],
      "metadata": {
        "colab": {
          "base_uri": "https://localhost:8080/"
        },
        "id": "pmS13Em2xvL2",
        "outputId": "64dd2ba2-1623-4551-80f7-08ac3d47383b"
      },
      "execution_count": 19,
      "outputs": [
        {
          "output_type": "stream",
          "name": "stdout",
          "text": [
            "Column names are step, clk, clr, VS, VT, SP, SPW\n",
            "Processed 2431 lines.\n"
          ]
        }
      ]
    }
  ]
}